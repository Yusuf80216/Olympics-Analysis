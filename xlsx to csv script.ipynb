{
 "cells": [
  {
   "cell_type": "code",
   "execution_count": null,
   "metadata": {},
   "outputs": [],
   "source": [
    "!pip install openpyxl"
   ]
  },
  {
   "cell_type": "code",
   "execution_count": 3,
   "metadata": {},
   "outputs": [],
   "source": [
    "import pandas as pd\n",
    "import os"
   ]
  },
  {
   "cell_type": "code",
   "execution_count": 8,
   "metadata": {},
   "outputs": [
    {
     "data": {
      "text/plain": [
       "'./Datasets/XLSX Files'"
      ]
     },
     "execution_count": 8,
     "metadata": {},
     "output_type": "execute_result"
    }
   ],
   "source": [
    "xlsx_folder = './Datasets/XLSX Files'\n",
    "xlsx_folder"
   ]
  },
  {
   "cell_type": "code",
   "execution_count": 9,
   "metadata": {},
   "outputs": [
    {
     "data": {
      "text/plain": [
       "['Athletes.xlsx',\n",
       " 'Coaches.xlsx',\n",
       " 'EntriesGender.xlsx',\n",
       " 'Medals.xlsx',\n",
       " 'Teams.xlsx']"
      ]
     },
     "execution_count": 9,
     "metadata": {},
     "output_type": "execute_result"
    }
   ],
   "source": [
    "file_list = os.listdir(xlsx_folder)\n",
    "file_list"
   ]
  },
  {
   "cell_type": "code",
   "execution_count": 10,
   "metadata": {},
   "outputs": [
    {
     "data": {
      "text/plain": [
       "['Athletes.xlsx',\n",
       " 'Coaches.xlsx',\n",
       " 'EntriesGender.xlsx',\n",
       " 'Medals.xlsx',\n",
       " 'Teams.xlsx']"
      ]
     },
     "execution_count": 10,
     "metadata": {},
     "output_type": "execute_result"
    }
   ],
   "source": [
    "xlsx_files = [file for file in file_list if file.endswith('.xlsx')]\n",
    "xlsx_files"
   ]
  },
  {
   "cell_type": "code",
   "execution_count": 15,
   "metadata": {},
   "outputs": [
    {
     "data": {
      "text/plain": [
       "'./Datasets/CSV Files/'"
      ]
     },
     "execution_count": 15,
     "metadata": {},
     "output_type": "execute_result"
    }
   ],
   "source": [
    "csv_folder = './Datasets/CSV Files/'\n",
    "os.mkdir(csv_folder) if not os.path.exists(csv_folder) else None\n",
    "csv_folder"
   ]
  },
  {
   "cell_type": "code",
   "execution_count": 17,
   "metadata": {},
   "outputs": [],
   "source": [
    "import warnings\n",
    "warnings.filterwarnings(\"ignore\", category=UserWarning)"
   ]
  },
  {
   "cell_type": "code",
   "execution_count": 18,
   "metadata": {},
   "outputs": [
    {
     "name": "stdout",
     "output_type": "stream",
     "text": [
      "Converted Athletes.xlsx to Athletes.csv\n",
      "Converted Coaches.xlsx to Coaches.csv\n",
      "Converted EntriesGender.xlsx to EntriesGender.csv\n",
      "Converted Medals.xlsx to Medals.csv\n",
      "Converted Teams.xlsx to Teams.csv\n",
      "Conversion Done!\n"
     ]
    }
   ],
   "source": [
    "for xlsx_file in xlsx_files:\n",
    "    xlsx_file_path = os.path.join(xlsx_folder, xlsx_file)\n",
    "    csv_file = os.path.splitext(xlsx_file)[0]+'.csv'\n",
    "    csv_file_path = os.path.join(csv_folder, csv_file)\n",
    "    df = pd.read_excel(xlsx_file_path)\n",
    "    df.to_csv(csv_file_path, index=False)\n",
    "\n",
    "    print(f'Converted {xlsx_file} to {csv_file}')\n",
    "print('Conversion Done!')"
   ]
  },
  {
   "cell_type": "code",
   "execution_count": null,
   "metadata": {},
   "outputs": [],
   "source": []
  }
 ],
 "metadata": {
  "kernelspec": {
   "display_name": "Python 3",
   "language": "python",
   "name": "python3"
  },
  "language_info": {
   "codemirror_mode": {
    "name": "ipython",
    "version": 3
   },
   "file_extension": ".py",
   "mimetype": "text/x-python",
   "name": "python",
   "nbconvert_exporter": "python",
   "pygments_lexer": "ipython3",
   "version": "3.11.4"
  },
  "orig_nbformat": 4
 },
 "nbformat": 4,
 "nbformat_minor": 2
}
